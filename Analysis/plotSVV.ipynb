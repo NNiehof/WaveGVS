{
 "cells": [
  {
   "cell_type": "code",
   "execution_count": 1,
   "metadata": {
    "collapsed": true
   },
   "outputs": [],
   "source": [
    "import pandas as pd\n",
    "import numpy as np\n",
    "\n",
    "%matplotlib tk\n",
    "# %matplotlib inline\n",
    "import matplotlib.pyplot as plt"
   ]
  },
  {
   "cell_type": "markdown",
   "metadata": {},
   "source": [
    "Import and inspect data"
   ]
  },
  {
   "cell_type": "code",
   "execution_count": 14,
   "metadata": {},
   "outputs": [],
   "source": [
    "# read in data\n",
    "data_folder = \"D:/OneDrive/Code/WaveGVS/Data/005/\"\n",
    "data_file = data_folder + \"005_stepGVS_zero-one-two-headtilted_20180814_094807.txt\"\n",
    "df = pd.read_csv(data_file, sep=\"; \", engine=\"python\")"
   ]
  },
  {
   "cell_type": "code",
   "execution_count": 15,
   "metadata": {},
   "outputs": [
    {
     "data": {
      "text/html": [
       "<div>\n",
       "<style scoped>\n",
       "    .dataframe tbody tr th:only-of-type {\n",
       "        vertical-align: middle;\n",
       "    }\n",
       "\n",
       "    .dataframe tbody tr th {\n",
       "        vertical-align: top;\n",
       "    }\n",
       "\n",
       "    .dataframe thead th {\n",
       "        text-align: right;\n",
       "    }\n",
       "</style>\n",
       "<table border=\"1\" class=\"dataframe\">\n",
       "  <thead>\n",
       "    <tr style=\"text-align: right;\">\n",
       "      <th></th>\n",
       "      <th>trial_nr</th>\n",
       "      <th>current</th>\n",
       "      <th>line_offset</th>\n",
       "      <th>line_ori</th>\n",
       "    </tr>\n",
       "  </thead>\n",
       "  <tbody>\n",
       "    <tr>\n",
       "      <th>0</th>\n",
       "      <td>1</td>\n",
       "      <td>2.0</td>\n",
       "      <td>2</td>\n",
       "      <td>[0.0, 0.0, 0.0, 0.0, 0.0, 0.0, 0.0, 0.0, 0.0, ...</td>\n",
       "    </tr>\n",
       "    <tr>\n",
       "      <th>1</th>\n",
       "      <td>2</td>\n",
       "      <td>0.0</td>\n",
       "      <td>-2</td>\n",
       "      <td>[-1.25, -1.25, -1.25, -1.25, -1.25, -1.25, -1....</td>\n",
       "    </tr>\n",
       "    <tr>\n",
       "      <th>2</th>\n",
       "      <td>3</td>\n",
       "      <td>2.0</td>\n",
       "      <td>-2</td>\n",
       "      <td>[-5.5, -5.5, -5.5, -5.5, -5.5, -5.5, -5.5, -5....</td>\n",
       "    </tr>\n",
       "    <tr>\n",
       "      <th>3</th>\n",
       "      <td>4</td>\n",
       "      <td>2.0</td>\n",
       "      <td>3</td>\n",
       "      <td>[-2.0, -2.0, -2.0, -2.0, -2.0, -2.0, -2.0, -2....</td>\n",
       "    </tr>\n",
       "    <tr>\n",
       "      <th>4</th>\n",
       "      <td>5</td>\n",
       "      <td>1.0</td>\n",
       "      <td>2</td>\n",
       "      <td>[-1.5, -1.5, -1.5, -1.5, -1.5, -1.5, -1.5, -1....</td>\n",
       "    </tr>\n",
       "    <tr>\n",
       "      <th>5</th>\n",
       "      <td>6</td>\n",
       "      <td>2.0</td>\n",
       "      <td>1</td>\n",
       "      <td>[-5.25, -5.25, -5.25, -5.25, -5.25, -5.25, -5....</td>\n",
       "    </tr>\n",
       "    <tr>\n",
       "      <th>6</th>\n",
       "      <td>7</td>\n",
       "      <td>1.0</td>\n",
       "      <td>-3</td>\n",
       "      <td>[-2.5, -2.5, -2.5, -2.5, -2.5, -2.5, -2.5, -2....</td>\n",
       "    </tr>\n",
       "    <tr>\n",
       "      <th>7</th>\n",
       "      <td>8</td>\n",
       "      <td>1.0</td>\n",
       "      <td>-4</td>\n",
       "      <td>[-5.5, -5.5, -5.5, -5.5, -5.5, -5.5, -5.5, -5....</td>\n",
       "    </tr>\n",
       "    <tr>\n",
       "      <th>8</th>\n",
       "      <td>9</td>\n",
       "      <td>2.0</td>\n",
       "      <td>-3</td>\n",
       "      <td>[-4.5, -4.5, -4.5, -4.5, -4.5, -4.5, -4.5, -4....</td>\n",
       "    </tr>\n",
       "    <tr>\n",
       "      <th>9</th>\n",
       "      <td>10</td>\n",
       "      <td>1.0</td>\n",
       "      <td>-5</td>\n",
       "      <td>[-2.5, -2.5, -2.5, -2.5, -2.5, -2.5, -2.5, -2....</td>\n",
       "    </tr>\n",
       "  </tbody>\n",
       "</table>\n",
       "</div>"
      ],
      "text/plain": [
       "<div>\n",
       "<style scoped>\n",
       "    .dataframe tbody tr th:only-of-type {\n",
       "        vertical-align: middle;\n",
       "    }\n",
       "\n",
       "    .dataframe tbody tr th {\n",
       "        vertical-align: top;\n",
       "    }\n",
       "\n",
       "    .dataframe thead th {\n",
       "        text-align: right;\n",
       "    }\n",
       "</style>\n",
       "<table border=\"1\" class=\"dataframe\">\n",
       "  <thead>\n",
       "    <tr style=\"text-align: right;\">\n",
       "      <th></th>\n",
       "      <th>trial_nr</th>\n",
       "      <th>current</th>\n",
       "      <th>line_offset</th>\n",
       "      <th>line_ori</th>\n",
       "    </tr>\n",
       "  </thead>\n",
       "  <tbody>\n",
       "    <tr>\n",
       "      <th>0</th>\n",
       "      <td>1</td>\n",
       "      <td>2.0</td>\n",
       "      <td>2</td>\n",
       "      <td>[0.0, 0.0, 0.0, 0.0, 0.0, 0.0, 0.0, 0.0, 0.0, ...</td>\n",
       "    </tr>\n",
       "    <tr>\n",
       "      <th>1</th>\n",
       "      <td>2</td>\n",
       "      <td>0.0</td>\n",
       "      <td>-2</td>\n",
       "      <td>[-1.25, -1.25, -1.25, -1.25, -1.25, -1.25, -1....</td>\n",
       "    </tr>\n",
       "    <tr>\n",
       "      <th>2</th>\n",
       "      <td>3</td>\n",
       "      <td>2.0</td>\n",
       "      <td>-2</td>\n",
       "      <td>[-5.5, -5.5, -5.5, -5.5, -5.5, -5.5, -5.5, -5....</td>\n",
       "    </tr>\n",
       "    <tr>\n",
       "      <th>3</th>\n",
       "      <td>4</td>\n",
       "      <td>2.0</td>\n",
       "      <td>3</td>\n",
       "      <td>[-2.0, -2.0, -2.0, -2.0, -2.0, -2.0, -2.0, -2....</td>\n",
       "    </tr>\n",
       "    <tr>\n",
       "      <th>4</th>\n",
       "      <td>5</td>\n",
       "      <td>1.0</td>\n",
       "      <td>2</td>\n",
       "      <td>[-1.5, -1.5, -1.5, -1.5, -1.5, -1.5, -1.5, -1....</td>\n",
       "    </tr>\n",
       "    <tr>\n",
       "      <th>5</th>\n",
       "      <td>6</td>\n",
       "      <td>2.0</td>\n",
       "      <td>1</td>\n",
       "      <td>[-5.25, -5.25, -5.25, -5.25, -5.25, -5.25, -5....</td>\n",
       "    </tr>\n",
       "    <tr>\n",
       "      <th>6</th>\n",
       "      <td>7</td>\n",
       "      <td>1.0</td>\n",
       "      <td>-3</td>\n",
       "      <td>[-2.5, -2.5, -2.5, -2.5, -2.5, -2.5, -2.5, -2....</td>\n",
       "    </tr>\n",
       "    <tr>\n",
       "      <th>7</th>\n",
       "      <td>8</td>\n",
       "      <td>1.0</td>\n",
       "      <td>-4</td>\n",
       "      <td>[-5.5, -5.5, -5.5, -5.5, -5.5, -5.5, -5.5, -5....</td>\n",
       "    </tr>\n",
       "    <tr>\n",
       "      <th>8</th>\n",
       "      <td>9</td>\n",
       "      <td>2.0</td>\n",
       "      <td>-3</td>\n",
       "      <td>[-4.5, -4.5, -4.5, -4.5, -4.5, -4.5, -4.5, -4....</td>\n",
       "    </tr>\n",
       "    <tr>\n",
       "      <th>9</th>\n",
       "      <td>10</td>\n",
       "      <td>1.0</td>\n",
       "      <td>-5</td>\n",
       "      <td>[-2.5, -2.5, -2.5, -2.5, -2.5, -2.5, -2.5, -2....</td>\n",
       "    </tr>\n",
       "  </tbody>\n",
       "</table>\n",
       "</div>"
      ]
     },
     "execution_count": 15,
     "metadata": {},
     "output_type": "execute_result"
    }
   ],
   "source": [
    "df.head(10)"
   ]
  },
  {
   "cell_type": "code",
   "execution_count": 16,
   "metadata": {},
   "outputs": [
    {
     "data": {
      "text/plain": [
       "trial_nr         int64\ncurrent        float64\nline_offset      int64\nline_ori        object\ndtype: object"
      ]
     },
     "execution_count": 16,
     "metadata": {},
     "output_type": "execute_result"
    }
   ],
   "source": [
    "df.dtypes"
   ]
  },
  {
   "cell_type": "markdown",
   "metadata": {},
   "source": [
    "Data correction and preprocessing"
   ]
  },
  {
   "cell_type": "code",
   "execution_count": 17,
   "metadata": {},
   "outputs": [],
   "source": [
    "# outer list comprehension turns string into list\n",
    "# nested: turn strings inside the list into float\n",
    "df[\"line_ori\"] = [[float(y) for y in x.strip(\"[]\").split(\",\")] for x in df[\"line_ori\"]]"
   ]
  },
  {
   "cell_type": "code",
   "execution_count": 18,
   "metadata": {},
   "outputs": [],
   "source": [
    "# get conditions\n",
    "currents = sorted(df[\"current\"].unique())\n",
    "c = len(currents)"
   ]
  },
  {
   "cell_type": "code",
   "execution_count": 19,
   "metadata": {},
   "outputs": [],
   "source": [
    "# get endpoint of each trial\n",
    "df[\"SVV\"] = np.nan\n",
    "for index, row in df.iterrows():\n",
    "    df.loc[index, \"SVV\"] = row[\"line_ori\"][-1]"
   ]
  },
  {
   "cell_type": "markdown",
   "metadata": {},
   "source": [
    "Plot data"
   ]
  },
  {
   "cell_type": "code",
   "execution_count": 24,
   "metadata": {
    "collapsed": false
   },
   "outputs": [],
   "source": [
    "# plot raw line orientation traces\n",
    "plt.figure()\n",
    "count = 0\n",
    "for curr in currents:\n",
    "    count += 1\n",
    "    plt.subplot(c, 1, count)\n",
    "    selection = df[(df[\"current\"] == curr)]\n",
    "    for index, row in selection.iterrows():\n",
    "        orientation = row[\"line_ori\"]\n",
    "        # collapse over offset angles\n",
    "        # orientation = [x - row[\"line_offset\"] for x in orientation]\n",
    "        samples = np.arange(0, len(orientation))\n",
    "\n",
    "        plt.plot(samples, orientation)\n",
    "\n",
    "    plt.title(\"{0} mA\".format(curr))\n",
    "    plt.ylabel(\"SVV (deg)\")\n",
    "    plt.xlabel(\"t (samples)\")\n",
    "    plt.ylim((-11, 2))\n",
    "plt.tight_layout()"
   ]
  },
  {
   "cell_type": "code",
   "execution_count": 25,
   "metadata": {},
   "outputs": [],
   "source": [
    "# plot endpoints per current\n",
    "count = 0\n",
    "x_tick_positions = []\n",
    "plotlabels = []\n",
    "fig, ax = plt.subplots()\n",
    "jitter_width = 0.4\n",
    "\n",
    "for curr in currents:\n",
    "    count += 1\n",
    "    x_tick_positions.append(count)\n",
    "    plotlabels.append(\"{0} mA\".format(curr))\n",
    "    selection = df[(df[\"current\"] == curr)]\n",
    "    for index, row in selection.iterrows():\n",
    "        x = count + np.random.rand() * jitter_width - (jitter_width / 2)\n",
    "        plt.scatter(x, row[\"SVV\"], color=\"blue\", alpha=0.2)\n",
    "\n",
    "    mean_amp = np.mean(selection[\"SVV\"])\n",
    "    std_amp = np.std(selection[\"SVV\"])\n",
    "    plt.errorbar(count, mean_amp, yerr=std_amp, ecolor=\"red\", alpha=0.5)\n",
    "    plt.scatter(count, mean_amp, color=\"red\", alpha=0.5)\n",
    "\n",
    "    plt.xticks(x_tick_positions)\n",
    "    ax.set_xticklabels(plotlabels)\n",
    "    plt.ylabel(\"final SVV (deg)\")\n",
    "    plt.title(\"line setting at end of trial\")\n",
    "plt.tight_layout()"
   ]
  },
  {
   "cell_type": "code",
   "execution_count": null,
   "metadata": {},
   "outputs": [],
   "source": []
  }
 ],
 "metadata": {
  "kernelspec": {
   "display_name": "Python 2",
   "language": "python",
   "name": "python2"
  },
  "language_info": {
   "codemirror_mode": {
    "name": "ipython",
    "version": 2
   },
   "file_extension": ".py",
   "mimetype": "text/x-python",
   "name": "python",
   "nbconvert_exporter": "python",
   "pygments_lexer": "ipython2",
   "version": "2.7.6"
  }
 },
 "nbformat": 4,
 "nbformat_minor": 0
}
